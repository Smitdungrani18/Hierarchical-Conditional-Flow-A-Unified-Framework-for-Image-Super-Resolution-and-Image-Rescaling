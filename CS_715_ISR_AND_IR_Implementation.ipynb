{
  "cells": [
    {
      "cell_type": "code",
      "source": [
        "import tensorflow as tf\n",
        "from tensorflow.keras import layers, models\n",
        "from tensorflow.keras.datasets import cifar10\n",
        "import numpy as np\n",
        "import matplotlib.pyplot as plt\n",
        "from skimage.transform import resize"
      ],
      "metadata": {
        "id": "ZD5jmJRiuycO"
      },
      "execution_count": 4,
      "outputs": []
    },
    {
      "cell_type": "code",
      "source": [
        "# Load and preprocess data\n",
        "def load_data():\n",
        "    (x_train, _), (x_test, _) = cifar10.load_data()\n",
        "    x_train = x_train.astype('float32') / 255.0\n",
        "    x_test = x_test.astype('float32') / 255.0\n",
        "    return x_train, x_test"
      ],
      "metadata": {
        "id": "v6y-KEQHwQpN"
      },
      "execution_count": 5,
      "outputs": []
    },
    {
      "cell_type": "code",
      "source": [
        "# Downsample images to create low-resolution versions\n",
        "def downsample_images(images, downscale_factor=2):\n",
        "    low_res_images = np.array([resize(image, (image.shape[0] // downscale_factor,\n",
        "                                              image.shape[1] // downscale_factor),\n",
        "                                      anti_aliasing=True) for image in images])\n",
        "    return low_res_images"
      ],
      "metadata": {
        "id": "OHD7VdeewX3S"
      },
      "execution_count": 6,
      "outputs": []
    },
    {
      "cell_type": "code",
      "source": [
        "# Simple Super-Resolution Model\n",
        "def build_super_resolution_model(input_shape):\n",
        "    model = models.Sequential()\n",
        "    model.add(layers.InputLayer(input_shape=input_shape))\n",
        "\n",
        "    # Upscaling layers\n",
        "    model.add(layers.Conv2D(64, (3, 3), activation='relu', padding='same'))\n",
        "    model.add(layers.UpSampling2D((2, 2)))\n",
        "    model.add(layers.Conv2D(64, (3, 3), activation='relu', padding='same'))\n",
        "    model.add(layers.Conv2D(3, (3, 3), activation='sigmoid', padding='same'))\n",
        "\n",
        "    return model"
      ],
      "metadata": {
        "id": "eFBqEHGqwczZ"
      },
      "execution_count": 7,
      "outputs": []
    },
    {
      "cell_type": "code",
      "source": [
        "# Train the model\n",
        "def train_model(model, x_train_lr, x_train_hr, epochs=10, batch_size=64):\n",
        "    model.compile(optimizer='adam', loss='mean_squared_error')\n",
        "    model.fit(x_train_lr, x_train_hr, epochs=epochs, batch_size=batch_size)\n",
        "\n"
      ],
      "metadata": {
        "id": "1B-fXcj-tb8B"
      },
      "execution_count": 12,
      "outputs": []
    },
    {
      "cell_type": "code",
      "source": [
        "# Display images\n",
        "def display_images(low_res_image, high_res_image, predicted_image):\n",
        "    plt.figure(figsize=(15, 5))\n",
        "    titles = ['Low Resolution', 'High Resolution', 'Predicted High Resolution']\n",
        "    images = [low_res_image, high_res_image, predicted_image]\n",
        "\n",
        "    for i in range(3):\n",
        "        plt.subplot(1, 3, i+1)\n",
        "        plt.imshow(images[i])\n",
        "        plt.title(titles[i])\n",
        "        plt.axis('off')\n",
        "\n",
        "    plt.show()\n",
        "\n",
        "\n"
      ],
      "metadata": {
        "id": "O9q8Zx21wWmD"
      },
      "execution_count": 11,
      "outputs": []
    },
    {
      "cell_type": "code",
      "source": [
        "# Load and prepare data\n",
        "x_train, x_test = load_data()\n",
        "x_train_lr = downsample_images(x_train)\n",
        "x_test_lr = downsample_images(x_test)\n",
        "\n"
      ],
      "metadata": {
        "id": "oU7h9ENwwoJr"
      },
      "execution_count": 3,
      "outputs": []
    },
    {
      "cell_type": "code",
      "source": [
        "# Build and train model\n",
        "input_shape = (x_train_lr.shape[1], x_train_lr.shape[2], 3)\n",
        "super_res_model = build_super_resolution_model(input_shape)\n",
        "train_model(super_res_model, x_train_lr, x_train, epochs=2)  # Limited epochs for demonstration\n",
        "\n"
      ],
      "metadata": {
        "id": "mwmVYoyDwptZ",
        "outputId": "e363c2d8-901f-4b2a-c51b-f11109d554f0",
        "colab": {
          "base_uri": "https://localhost:8080/"
        }
      },
      "execution_count": 8,
      "outputs": [
        {
          "output_type": "stream",
          "name": "stdout",
          "text": [
            "Epoch 1/2\n",
            "782/782 [==============================] - 427s 545ms/step - loss: 0.0054\n",
            "Epoch 2/2\n",
            "782/782 [==============================] - 435s 556ms/step - loss: 0.0026\n"
          ]
        }
      ]
    },
    {
      "cell_type": "code",
      "source": [
        "# Test the model\n",
        "index = 0  # Index of the image to be tested\n",
        "predicted_hr = super_res_model.predict(np.expand_dims(x_test_lr[index], axis=0))[0]\n",
        "\n"
      ],
      "metadata": {
        "id": "jVoH9xHhwrwX",
        "outputId": "ac36ace9-07cb-4cfc-f81e-f5d126830d2e",
        "colab": {
          "base_uri": "https://localhost:8080/"
        }
      },
      "execution_count": 9,
      "outputs": [
        {
          "output_type": "stream",
          "name": "stdout",
          "text": [
            "1/1 [==============================] - 0s 101ms/step\n"
          ]
        }
      ]
    },
    {
      "cell_type": "code",
      "source": [
        "# Display the results\n",
        "display_images(x_test_lr[index], x_test[index], predicted_hr)"
      ],
      "metadata": {
        "id": "VsKaShRjwtww",
        "outputId": "8388b173-a1b8-4490-d1b5-bbe2a1e56bf6",
        "colab": {
          "base_uri": "https://localhost:8080/",
          "height": 401
        }
      },
      "execution_count": 10,
      "outputs": [
        {
          "output_type": "display_data",
          "data": {
            "text/plain": [
              "<Figure size 1500x500 with 3 Axes>"
            ],
            "image/png": "[encoded data removed]"
          },
          "metadata": {}
        }
      ]
    },
    {
      "cell_type": "code",
      "source": [
        "# Image Rescaling Model\n",
        "def build_image_rescaling_model(input_shape):\n",
        "    model = models.Sequential()\n",
        "\n",
        "    # Downscaling layers\n",
        "    model.add(layers.InputLayer(input_shape=input_shape))\n",
        "    model.add(layers.Conv2D(64, (3, 3), strides=2, activation='relu', padding='same'))  # Downscale by factor of 2\n",
        "\n",
        "    # Upscaling layers\n",
        "    model.add(layers.Conv2D(64, (3, 3), activation='relu', padding='same'))\n",
        "    model.add(layers.UpSampling2D((2, 2)))\n",
        "    model.add(layers.Conv2D(3, (3, 3), activation='sigmoid', padding='same'))  # Output layer\n",
        "\n",
        "    return model"
      ],
      "metadata": {
        "id": "BemQbQeL3Gf8"
      },
      "execution_count": 13,
      "outputs": []
    },
    {
      "cell_type": "code",
      "source": [
        "# Train the model\n",
        "def train_model(model, x_train, epochs=10, batch_size=64):\n",
        "    model.compile(optimizer='adam', loss='mean_squared_error')\n",
        "    model.fit(x_train, x_train, epochs=epochs, batch_size=batch_size)\n"
      ],
      "metadata": {
        "id": "gFpY1pfQ3H50"
      },
      "execution_count": 14,
      "outputs": []
    },
    {
      "cell_type": "code",
      "source": [
        "\n",
        "# Display images\n",
        "def display_images(original_image, rescaled_image):\n",
        "    plt.figure(figsize=(10, 4))\n",
        "    titles = ['Original Image', 'Rescaled Image']\n",
        "    images = [original_image, rescaled_image]\n",
        "\n",
        "    for i in range(2):\n",
        "        plt.subplot(1, 2, i+1)\n",
        "        plt.imshow(images[i])\n",
        "        plt.title(titles[i])\n",
        "        plt.axis('off')\n",
        "\n",
        "    plt.show()\n",
        "\n"
      ],
      "metadata": {
        "id": "oIuviILp3UL-"
      },
      "execution_count": 15,
      "outputs": []
    },
    {
      "cell_type": "code",
      "source": [
        "# Load and prepare data\n",
        "x_train, x_test = load_data()\n",
        "\n"
      ],
      "metadata": {
        "id": "3KGnuj3l3Y1E"
      },
      "execution_count": 16,
      "outputs": []
    },
    {
      "cell_type": "code",
      "source": [
        "# Build and train model\n",
        "input_shape = x_train.shape[1:]  # Assuming square images with 3 channels\n",
        "rescaling_model = build_image_rescaling_model(input_shape)\n",
        "train_model(rescaling_model, x_train, epochs=2)  # Limited epochs for demonstration\n",
        "\n"
      ],
      "metadata": {
        "id": "PsHZR1d83cDr",
        "outputId": "f72db658-d9b5-4840-e7c9-b817d51e2f5b",
        "colab": {
          "base_uri": "https://localhost:8080/"
        }
      },
      "execution_count": 17,
      "outputs": [
        {
          "output_type": "stream",
          "name": "stdout",
          "text": [
            "Epoch 1/2\n",
            "782/782 [==============================] - 214s 272ms/step - loss: 0.0039\n",
            "Epoch 2/2\n",
            "782/782 [==============================] - 208s 266ms/step - loss: 0.0011\n"
          ]
        }
      ]
    },
    {
      "cell_type": "code",
      "source": [
        "# Test the model\n",
        "index = 0  # Index of the image to be tested\n",
        "rescaled_image = rescaling_model.predict(np.expand_dims(x_test[index], axis=0))[0]\n",
        "\n"
      ],
      "metadata": {
        "id": "BPHChfz_3hSv",
        "outputId": "e2205442-a957-4b8f-f578-9aa99efbb325",
        "colab": {
          "base_uri": "https://localhost:8080/"
        }
      },
      "execution_count": 18,
      "outputs": [
        {
          "output_type": "stream",
          "name": "stdout",
          "text": [
            "1/1 [==============================] - 0s 71ms/step\n"
          ]
        }
      ]
    },
    {
      "cell_type": "code",
      "source": [
        "# Display the results\n",
        "display_images(x_test[index], rescaled_image)"
      ],
      "metadata": {
        "id": "TwqIMhWz3kCi",
        "outputId": "594cfedc-5a83-4d1c-e566-bdfab603b70d",
        "colab": {
          "base_uri": "https://localhost:8080/",
          "height": 367
        }
      },
      "execution_count": 19,
      "outputs": [
        {
          "output_type": "display_data",
          "data": {
            "text/plain": [
              "<Figure size 1000x400 with 2 Axes>"
            ],
            "image/png": "[encoded data removed]"
          },
          "metadata": {}
        }
      ]
    }
  ],
  "metadata": {
    "colab": {
      "name": "Welcome To Colaboratory",
      "toc_visible": true,
      "provenance": []
    },
    "kernelspec": {
      "display_name": "Python 3",
      "name": "python3"
    }
  },
  "nbformat": 4,
  "nbformat_minor": 0
}